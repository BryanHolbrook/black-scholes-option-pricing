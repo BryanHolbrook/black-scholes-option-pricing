{
 "cells": [
  {
   "cell_type": "markdown",
   "id": "b326396c-77c6-4a6b-b7a1-92bec42d396e",
   "metadata": {},
   "source": [
    "### Option Pricing using Black-Scholes-Merton Model\n",
    "\n",
    "In finance, the Black Scholes Merton model is one of the most widely used methods for pricing options. It calculates the theoretical value of an option based on five key variables:\n",
    "\n",
    "- Underlying Price (S)\n",
    "- Strike Price (K)\n",
    "- Time to Expiration (T)\n",
    "- Risk Free Rate (r)\n",
    "- Volatility ()\n"
   ]
  },
  {
   "cell_type": "code",
   "execution_count": 68,
   "id": "ec18ecb5-194c-4f9c-88b3-041d9382fdfd",
   "metadata": {},
   "outputs": [],
   "source": [
    "import math\n",
    "from scipy.stats import norm"
   ]
  },
  {
   "cell_type": "code",
   "execution_count": 69,
   "id": "30e25d65-4a16-4766-9186-0b9e7587e962",
   "metadata": {},
   "outputs": [],
   "source": [
    "S = 45     # underlying price\n",
    "K = 40     # strike price\n",
    "T = 2    # time to expiration\n",
    "r = 0.1    # risk-free rate\n",
    "vol = 0.1  # volatility"
   ]
  },
  {
   "cell_type": "code",
   "execution_count": 70,
   "id": "3ba12971-0b03-48dd-ac5f-c377edecf2cc",
   "metadata": {},
   "outputs": [],
   "source": [
    "# Calculate Black Scholes Formula\n",
    "d1 = (math.log(S/K) + (r + 0.5 * vol**2)*T) / (vol * math.sqrt(T))"
   ]
  },
  {
   "cell_type": "code",
   "execution_count": 71,
   "id": "b22a2689-1f7b-4c34-95e4-4133be3c0219",
   "metadata": {},
   "outputs": [],
   "source": [
    "d2 = d1 - (vol * math.sqrt(T))"
   ]
  },
  {
   "cell_type": "code",
   "execution_count": 72,
   "id": "286f0bc3-1d07-4b1a-8464-144d03cdd6df",
   "metadata": {},
   "outputs": [],
   "source": [
    "# Calculate Call Option Price\n",
    "C =  S * norm.cdf(d1) - K * math.exp(-r * T) * norm.cdf(d2)"
   ]
  },
  {
   "cell_type": "code",
   "execution_count": 73,
   "id": "c31d23dd-5a01-4241-aca4-748e0760cfc9",
   "metadata": {},
   "outputs": [],
   "source": [
    "P = K * math.exp(-r * T) * norm.cdf(-d2) - S * norm.cdf(-d1)"
   ]
  },
  {
   "cell_type": "code",
   "execution_count": 74,
   "id": "7524d311-8852-4ada-bce2-a099f397f5e1",
   "metadata": {},
   "outputs": [
    {
     "name": "stdout",
     "output_type": "stream",
     "text": [
      "The value of d1 is:  2.3178\n",
      "The value of d2 is:  2.3178\n",
      "The price of the call option is: $ 12.27\n",
      "The price of the put option is: $ 0.02\n"
     ]
    }
   ],
   "source": [
    "print(\"The value of d1 is: \", round(d1, 4))\n",
    "print(\"The value of d2 is: \", round(d1, 4))\n",
    "print(\"The price of the call option is: $\", round(C, 2))\n",
    "print(\"The price of the put option is: $\", round(P, 2))"
   ]
  },
  {
   "cell_type": "code",
   "execution_count": null,
   "id": "4f4b0b40-8237-41f6-9d38-666a8378d434",
   "metadata": {},
   "outputs": [],
   "source": []
  }
 ],
 "metadata": {
  "kernelspec": {
   "display_name": "Python [conda env:miniconda3-nyc_airbnb_dev]",
   "language": "python",
   "name": "conda-env-miniconda3-nyc_airbnb_dev-py"
  },
  "language_info": {
   "codemirror_mode": {
    "name": "ipython",
    "version": 3
   },
   "file_extension": ".py",
   "mimetype": "text/x-python",
   "name": "python",
   "nbconvert_exporter": "python",
   "pygments_lexer": "ipython3",
   "version": "3.10.16"
  }
 },
 "nbformat": 4,
 "nbformat_minor": 5
}
